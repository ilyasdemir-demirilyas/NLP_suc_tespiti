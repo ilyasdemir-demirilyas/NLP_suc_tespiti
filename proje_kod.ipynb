{
 "cells": [
  {
   "cell_type": "code",
   "execution_count": 1,
   "id": "1638e98e",
   "metadata": {
    "_cell_guid": "b1076dfc-b9ad-4769-8c92-a6c4dae69d19",
    "_uuid": "8f2839f25d086af736a60e9eeb907d3b93b6e0e5",
    "execution": {
     "iopub.execute_input": "2022-01-12T11:52:00.285130Z",
     "iopub.status.busy": "2022-01-12T11:52:00.277693Z",
     "iopub.status.idle": "2022-01-12T11:52:00.301511Z",
     "shell.execute_reply": "2022-01-12T11:52:00.302000Z",
     "shell.execute_reply.started": "2022-01-12T10:19:29.432525Z"
    },
    "papermill": {
     "duration": 0.041844,
     "end_time": "2022-01-12T11:52:00.302286",
     "exception": false,
     "start_time": "2022-01-12T11:52:00.260442",
     "status": "completed"
    },
    "tags": []
   },
   "outputs": [
    {
     "name": "stdout",
     "output_type": "stream",
     "text": [
      "/kaggle/input/malignant-comment-classification/train.csv\n",
      "/kaggle/input/malignant-comment-classification/test.csv\n"
     ]
    }
   ],
   "source": [
    "# This Python 3 environment comes with many helpful analytics libraries installed\n",
    "# It is defined by the kaggle/python Docker image: https://github.com/kaggle/docker-python\n",
    "# For example, here's several helpful packages to load\n",
    "\n",
    "import numpy as np # linear algebra\n",
    "import pandas as pd # data processing, CSV file I/O (e.g. pd.read_csv)\n",
    "\n",
    "# Input data files are available in the read-only \"../input/\" directory\n",
    "# For example, running this (by clicking run or pressing Shift+Enter) will list all files under the input directory\n",
    "\n",
    "import os\n",
    "for dirname, _, filenames in os.walk('/kaggle/input'):\n",
    "    for filename in filenames:\n",
    "        print(os.path.join(dirname, filename))\n",
    "\n",
    "# You can write up to 20GB to the current directory (/kaggle/working/) that gets preserved as output when you create a version using \"Save & Run All\" \n",
    "# You can also write temporary files to /kaggle/temp/, but they won't be saved outside of the current session"
   ]
  },
  {
   "cell_type": "code",
   "execution_count": 2,
   "id": "b9a99e18",
   "metadata": {
    "execution": {
     "iopub.execute_input": "2022-01-12T11:52:00.330334Z",
     "iopub.status.busy": "2022-01-12T11:52:00.329703Z",
     "iopub.status.idle": "2022-01-12T11:52:01.894423Z",
     "shell.execute_reply": "2022-01-12T11:52:01.893769Z",
     "shell.execute_reply.started": "2022-01-12T10:19:29.469212Z"
    },
    "papermill": {
     "duration": 1.579284,
     "end_time": "2022-01-12T11:52:01.894569",
     "exception": false,
     "start_time": "2022-01-12T11:52:00.315285",
     "status": "completed"
    },
    "tags": []
   },
   "outputs": [],
   "source": [
    "#burada kullanacağımız kütüphaneleri çağırıyoruz\n",
    "import matplotlib.pyplot as plt \n",
    "import pandas as pd\n",
    "import numpy as np\n",
    "from sklearn.feature_extraction.text import CountVectorizer\n",
    "from sklearn.model_selection import train_test_split\n",
    "from sklearn.tree import DecisionTreeClassifier\n",
    "import nltk\n",
    "import re\n",
    "stemmer = nltk.SnowballStemmer(\"english\")\n",
    "from nltk.corpus import stopwords\n",
    "stopword=set(stopwords.words('english'))\n",
    "import nltk as nlp"
   ]
  },
  {
   "cell_type": "code",
   "execution_count": 3,
   "id": "385695d6",
   "metadata": {
    "execution": {
     "iopub.execute_input": "2022-01-12T11:52:01.924785Z",
     "iopub.status.busy": "2022-01-12T11:52:01.924142Z",
     "iopub.status.idle": "2022-01-12T11:52:03.658679Z",
     "shell.execute_reply": "2022-01-12T11:52:03.659138Z",
     "shell.execute_reply.started": "2022-01-12T10:19:30.97841Z"
    },
    "papermill": {
     "duration": 1.752345,
     "end_time": "2022-01-12T11:52:03.659298",
     "exception": false,
     "start_time": "2022-01-12T11:52:01.906953",
     "status": "completed"
    },
    "tags": []
   },
   "outputs": [
    {
     "data": {
      "text/html": [
       "<div>\n",
       "<style scoped>\n",
       "    .dataframe tbody tr th:only-of-type {\n",
       "        vertical-align: middle;\n",
       "    }\n",
       "\n",
       "    .dataframe tbody tr th {\n",
       "        vertical-align: top;\n",
       "    }\n",
       "\n",
       "    .dataframe thead th {\n",
       "        text-align: right;\n",
       "    }\n",
       "</style>\n",
       "<table border=\"1\" class=\"dataframe\">\n",
       "  <thead>\n",
       "    <tr style=\"text-align: right;\">\n",
       "      <th></th>\n",
       "      <th>id</th>\n",
       "      <th>comment_text</th>\n",
       "    </tr>\n",
       "  </thead>\n",
       "  <tbody>\n",
       "    <tr>\n",
       "      <th>0</th>\n",
       "      <td>00001cee341fdb12</td>\n",
       "      <td>Yo bitch Ja Rule is more succesful then you'll...</td>\n",
       "    </tr>\n",
       "    <tr>\n",
       "      <th>1</th>\n",
       "      <td>0000247867823ef7</td>\n",
       "      <td>== From RfC == \\n\\n The title is fine as it is...</td>\n",
       "    </tr>\n",
       "    <tr>\n",
       "      <th>2</th>\n",
       "      <td>00013b17ad220c46</td>\n",
       "      <td>\" \\n\\n == Sources == \\n\\n * Zawe Ashton on Lap...</td>\n",
       "    </tr>\n",
       "    <tr>\n",
       "      <th>3</th>\n",
       "      <td>00017563c3f7919a</td>\n",
       "      <td>:If you have a look back at the source, the in...</td>\n",
       "    </tr>\n",
       "    <tr>\n",
       "      <th>4</th>\n",
       "      <td>00017695ad8997eb</td>\n",
       "      <td>I don't anonymously edit articles at all.</td>\n",
       "    </tr>\n",
       "  </tbody>\n",
       "</table>\n",
       "</div>"
      ],
      "text/plain": [
       "                 id                                       comment_text\n",
       "0  00001cee341fdb12  Yo bitch Ja Rule is more succesful then you'll...\n",
       "1  0000247867823ef7  == From RfC == \\n\\n The title is fine as it is...\n",
       "2  00013b17ad220c46  \" \\n\\n == Sources == \\n\\n * Zawe Ashton on Lap...\n",
       "3  00017563c3f7919a  :If you have a look back at the source, the in...\n",
       "4  00017695ad8997eb          I don't anonymously edit articles at all."
      ]
     },
     "execution_count": 3,
     "metadata": {},
     "output_type": "execute_result"
    }
   ],
   "source": [
    "#test veri setini çağırıyoruz\n",
    "\n",
    "data_test=pd.read_csv('/kaggle/input/malignant-comment-classification/test.csv')\n",
    "data_test.head()"
   ]
  },
  {
   "cell_type": "code",
   "execution_count": 4,
   "id": "33325b28",
   "metadata": {
    "execution": {
     "iopub.execute_input": "2022-01-12T11:52:03.688461Z",
     "iopub.status.busy": "2022-01-12T11:52:03.687448Z",
     "iopub.status.idle": "2022-01-12T11:52:05.522047Z",
     "shell.execute_reply": "2022-01-12T11:52:05.521602Z",
     "shell.execute_reply.started": "2022-01-12T10:19:33.066611Z"
    },
    "papermill": {
     "duration": 1.850283,
     "end_time": "2022-01-12T11:52:05.522181",
     "exception": false,
     "start_time": "2022-01-12T11:52:03.671898",
     "status": "completed"
    },
    "tags": []
   },
   "outputs": [
    {
     "data": {
      "text/html": [
       "<div>\n",
       "<style scoped>\n",
       "    .dataframe tbody tr th:only-of-type {\n",
       "        vertical-align: middle;\n",
       "    }\n",
       "\n",
       "    .dataframe tbody tr th {\n",
       "        vertical-align: top;\n",
       "    }\n",
       "\n",
       "    .dataframe thead th {\n",
       "        text-align: right;\n",
       "    }\n",
       "</style>\n",
       "<table border=\"1\" class=\"dataframe\">\n",
       "  <thead>\n",
       "    <tr style=\"text-align: right;\">\n",
       "      <th></th>\n",
       "      <th>comment_text</th>\n",
       "      <th>labels</th>\n",
       "    </tr>\n",
       "  </thead>\n",
       "  <tbody>\n",
       "    <tr>\n",
       "      <th>0</th>\n",
       "      <td>Explanation\\nWhy the edits made under my usern...</td>\n",
       "      <td>No Hate and Offensive</td>\n",
       "    </tr>\n",
       "    <tr>\n",
       "      <th>1</th>\n",
       "      <td>D'aww! He matches this background colour I'm s...</td>\n",
       "      <td>No Hate and Offensive</td>\n",
       "    </tr>\n",
       "    <tr>\n",
       "      <th>2</th>\n",
       "      <td>Hey man, I'm really not trying to edit war. It...</td>\n",
       "      <td>No Hate and Offensive</td>\n",
       "    </tr>\n",
       "    <tr>\n",
       "      <th>3</th>\n",
       "      <td>\"\\nMore\\nI can't make any real suggestions on ...</td>\n",
       "      <td>No Hate and Offensive</td>\n",
       "    </tr>\n",
       "    <tr>\n",
       "      <th>4</th>\n",
       "      <td>You, sir, are my hero. Any chance you remember...</td>\n",
       "      <td>No Hate and Offensive</td>\n",
       "    </tr>\n",
       "  </tbody>\n",
       "</table>\n",
       "</div>"
      ],
      "text/plain": [
       "                                        comment_text                 labels\n",
       "0  Explanation\\nWhy the edits made under my usern...  No Hate and Offensive\n",
       "1  D'aww! He matches this background colour I'm s...  No Hate and Offensive\n",
       "2  Hey man, I'm really not trying to edit war. It...  No Hate and Offensive\n",
       "3  \"\\nMore\\nI can't make any real suggestions on ...  No Hate and Offensive\n",
       "4  You, sir, are my hero. Any chance you remember...  No Hate and Offensive"
      ]
     },
     "execution_count": 4,
     "metadata": {},
     "output_type": "execute_result"
    }
   ],
   "source": [
    "#önce veri setini çağırdım sonra eğitmek için gereken şekilde yeni bir malıgnat sütunu oluturduktan sonra kullanmayacağım kısımları çıkardım .\n",
    "\n",
    "data_train=pd.read_csv('/kaggle/input/malignant-comment-classification/train.csv')\n",
    "data_train1=data_train\n",
    "\n",
    "data_train[\"labels\"] = data_train[\"malignant\"].map({0: \"No Hate and Offensive\", \n",
    "                                                    1: \"Offensive Language\"  } )\n",
    "\n",
    "#başka bir seçenek\n",
    "#data_train[\"labels\"] = [ \"No Hate and Offensive\" if each ==0  else \"Offensive Language\" for each in data_train[\"malignant\"]]\n",
    "\n",
    "\n",
    "data_train = data_train[[\"comment_text\", \"labels\"]]\n",
    "\n",
    "data_train.head()"
   ]
  },
  {
   "cell_type": "code",
   "execution_count": 5,
   "id": "13c869d1",
   "metadata": {
    "execution": {
     "iopub.execute_input": "2022-01-12T11:52:05.564160Z",
     "iopub.status.busy": "2022-01-12T11:52:05.562771Z",
     "iopub.status.idle": "2022-01-12T11:52:05.572878Z",
     "shell.execute_reply": "2022-01-12T11:52:05.572309Z",
     "shell.execute_reply.started": "2022-01-12T10:19:34.878887Z"
    },
    "papermill": {
     "duration": 0.037818,
     "end_time": "2022-01-12T11:52:05.573020",
     "exception": false,
     "start_time": "2022-01-12T11:52:05.535202",
     "status": "completed"
    },
    "tags": []
   },
   "outputs": [
    {
     "data": {
      "text/plain": [
       "6              COCKSUCKER BEFORE YOU PISS AROUND ON MY WORK\n",
       "12        Hey... what is it..\\n@ | talk .\\nWhat is it......\n",
       "16        Bye! \\n\\nDon't look, come or think of comming ...\n",
       "42        You are gay or antisemmitian? \\n\\nArchangel WH...\n",
       "43                 FUCK YOUR FILTHY MOTHER IN THE ASS, DRY!\n",
       "                                ...                        \n",
       "159494    \"\\n\\n our previous conversation \\n\\nyou fuckin...\n",
       "159514                    YOU ARE A MISCHIEVIOUS PUBIC HAIR\n",
       "159541    Your absurd edits \\n\\nYour absurd edits on gre...\n",
       "159546    \"\\n\\nHey listen don't you ever!!!! Delete my e...\n",
       "159554    and i'm going to keep posting the stuff u dele...\n",
       "Name: comment_text, Length: 15294, dtype: object"
      ]
     },
     "execution_count": 5,
     "metadata": {},
     "output_type": "execute_result"
    }
   ],
   "source": [
    "data_train.comment_text[data_train.labels==\"Offensive Language\"]"
   ]
  },
  {
   "cell_type": "code",
   "execution_count": 6,
   "id": "074e689a",
   "metadata": {
    "execution": {
     "iopub.execute_input": "2022-01-12T11:52:05.604028Z",
     "iopub.status.busy": "2022-01-12T11:52:05.603272Z",
     "iopub.status.idle": "2022-01-12T11:52:05.609077Z",
     "shell.execute_reply": "2022-01-12T11:52:05.608518Z",
     "shell.execute_reply.started": "2022-01-12T10:19:34.900605Z"
    },
    "papermill": {
     "duration": 0.021818,
     "end_time": "2022-01-12T11:52:05.609206",
     "exception": false,
     "start_time": "2022-01-12T11:52:05.587388",
     "status": "completed"
    },
    "tags": []
   },
   "outputs": [],
   "source": [
    "#burada veri setinin düzgün okunması için gerekli olan temizleme ve düzenlemeler yapıldı .\n",
    "\n",
    "def cleaning(data):\n",
    "    absolve_list = []\n",
    "    \n",
    "    for absolve in data:\n",
    "        absolve = re.sub(\"[^a-zA-Z]\",\" \",absolve)\n",
    "        absolve = absolve.lower()   # converting from uppercase to lowercase\n",
    "        absolve = nltk.word_tokenize(absolve)\n",
    "        lemma = nlp.WordNetLemmatizer()\n",
    "        absolve = [ lemma.lemmatize(word) for word in absolve]\n",
    "        absolve = \" \".join(absolve)\n",
    "        absolve_list.append(absolve)\n",
    "        \n",
    "    return absolve_list\n",
    "\n"
   ]
  },
  {
   "cell_type": "code",
   "execution_count": 7,
   "id": "01922633",
   "metadata": {
    "execution": {
     "iopub.execute_input": "2022-01-12T11:52:05.641057Z",
     "iopub.status.busy": "2022-01-12T11:52:05.640342Z",
     "iopub.status.idle": "2022-01-12T11:55:03.569916Z",
     "shell.execute_reply": "2022-01-12T11:55:03.569302Z",
     "shell.execute_reply.started": "2022-01-12T10:19:34.910851Z"
    },
    "papermill": {
     "duration": 177.947599,
     "end_time": "2022-01-12T11:55:03.570067",
     "exception": false,
     "start_time": "2022-01-12T11:52:05.622468",
     "status": "completed"
    },
    "tags": []
   },
   "outputs": [
    {
     "name": "stderr",
     "output_type": "stream",
     "text": [
      "/opt/conda/lib/python3.7/site-packages/ipykernel_launcher.py:2: SettingWithCopyWarning: \n",
      "A value is trying to be set on a copy of a slice from a DataFrame.\n",
      "Try using .loc[row_indexer,col_indexer] = value instead\n",
      "\n",
      "See the caveats in the documentation: https://pandas.pydata.org/pandas-docs/stable/user_guide/indexing.html#returning-a-view-versus-a-copy\n",
      "  \n"
     ]
    }
   ],
   "source": [
    "#eğitim setindeki eğiteceğimiz datanın uygun hale gelmesi için gereken temizlik yapıldı .\n",
    "data_train[\"comment_text\"] = cleaning(data_train.comment_text)\n",
    "\n",
    "#test datasının temizliği yapıldı\n",
    "data_test['new_comment_text'] = cleaning(data_test.comment_text)"
   ]
  },
  {
   "cell_type": "code",
   "execution_count": 8,
   "id": "835e77fc",
   "metadata": {
    "execution": {
     "iopub.execute_input": "2022-01-12T11:55:03.608773Z",
     "iopub.status.busy": "2022-01-12T11:55:03.607480Z",
     "iopub.status.idle": "2022-01-12T11:58:33.216767Z",
     "shell.execute_reply": "2022-01-12T11:58:33.217238Z",
     "shell.execute_reply.started": "2022-01-12T10:22:29.441407Z"
    },
    "papermill": {
     "duration": 209.633291,
     "end_time": "2022-01-12T11:58:33.217428",
     "exception": false,
     "start_time": "2022-01-12T11:55:03.584137",
     "status": "completed"
    },
    "tags": []
   },
   "outputs": [
    {
     "name": "stdout",
     "output_type": "stream",
     "text": [
      "decision tree değeri:  0.9443098262032086\n"
     ]
    }
   ],
   "source": [
    "#buradada şuç tespiti için verinin eğitimini yapıyoruz .\n",
    "\n",
    "x = np.array(data_train[\"comment_text\"])\n",
    "y = np.array(data_train[\"labels\"])\n",
    "\n",
    "cv = CountVectorizer()\n",
    "X = cv.fit_transform(x) \n",
    "X_train, X_test, y_train, y_test = train_test_split(X, y, test_size=0.15, random_state=42)\n",
    "clf = DecisionTreeClassifier()\n",
    "clf.fit(X_train,y_train)\n",
    "print(\"decision tree değeri: \", clf.score(X_test,y_test))\n",
    "\n",
    "#decision tree score:  0.9445088516371613\n"
   ]
  },
  {
   "cell_type": "code",
   "execution_count": 9,
   "id": "786336d4",
   "metadata": {
    "execution": {
     "iopub.execute_input": "2022-01-12T11:58:33.250506Z",
     "iopub.status.busy": "2022-01-12T11:58:33.247552Z",
     "iopub.status.idle": "2022-01-12T12:21:07.836717Z",
     "shell.execute_reply": "2022-01-12T12:21:07.837261Z",
     "shell.execute_reply.started": "2022-01-12T10:25:41.447203Z"
    },
    "papermill": {
     "duration": 1354.606648,
     "end_time": "2022-01-12T12:21:07.837672",
     "exception": false,
     "start_time": "2022-01-12T11:58:33.231024",
     "status": "completed"
    },
    "tags": []
   },
   "outputs": [
    {
     "name": "stdout",
     "output_type": "stream",
     "text": [
      "random forest değeri:  0.9425969251336899\n"
     ]
    }
   ],
   "source": [
    "#buradada daha iyi sonuç alabilmek için RandomForestClassifier'ı deneyelim\n",
    "#çok fazla zaman aldığı için burada çalıştırmadım .\n",
    "\n",
    "\n",
    "from sklearn.ensemble import RandomForestClassifier\n",
    "\n",
    "rf = RandomForestClassifier(n_estimators = 100,random_state = 1)\n",
    "rf.fit(X_train,y_train)\n",
    "print(\"random forest değeri: \",rf.score(X_test,y_test))\n",
    "\n",
    "#random forest algo result:  0.9412501958326805\n",
    "\n",
    "#burada görüldüğü üzere forest sonucu tree sonucundan düşük kaldı .\n",
    "#bu yüzden tree kullanımı bizim için daha iyi olur ."
   ]
  },
  {
   "cell_type": "code",
   "execution_count": 10,
   "id": "f03acbc9",
   "metadata": {
    "execution": {
     "iopub.execute_input": "2022-01-12T12:21:07.871432Z",
     "iopub.status.busy": "2022-01-12T12:21:07.870477Z",
     "iopub.status.idle": "2022-01-12T12:21:07.897318Z",
     "shell.execute_reply": "2022-01-12T12:21:07.896758Z",
     "shell.execute_reply.started": "2022-01-12T11:19:02.499374Z"
    },
    "papermill": {
     "duration": 0.04513,
     "end_time": "2022-01-12T12:21:07.897502",
     "exception": false,
     "start_time": "2022-01-12T12:21:07.852372",
     "status": "completed"
    },
    "tags": []
   },
   "outputs": [
    {
     "name": "stdout",
     "output_type": "stream",
     "text": [
      "['if there s any sort of consensus with regard to the content i must ve missed it most of what s been said is about whether to italicise his name hyphenate some word and change the tense of a verb  ----  No Hate and Offensive']\n",
      " \n",
      "['speedy deletion of leon england a tag ha been placed on leon england requesting that it be speedily deleted from wikipedia this ha been done under section a of the criterion for speedy deletion because the article appears to be about a person or group of people but it doe not indicate how or why the subject is notable that is why an article about that subject should be included in an encyclopedia under the criterion for speedy deletion article that do not indicate the subject s importance or significance may be deleted at any time please see the guideline for what is generally accepted a notable a well a our subject specific notability guideline for biography if you think that this notice wa placed here in error you may contest the deletion by adding to the top of the page just below the existing speedy deletion or db tag coupled with adding a note on the talk page explaining your position but be aware that once tagged for speedy deletion if the article meet the criterion it may be deleted without delay please do not remove the speedy deletion tag yourself but don t hesitate to add information to the article that would would render it more in conformance with wikipedia s policy and guideline  ----  No Hate and Offensive']\n",
      " \n",
      "['removed para i ve removed from the death of god movement theology section the following some have speculated that god ha long since committed suicide mostly out of boredom and a profound sense of ennui originating in the fact that he she it supposedly control or directs everything and everyone everywhere thus he she it probably ran out of thing to do long ago and just left the universe at it stood at the moment of death some believe that this view is quite comical while others find it highly blasphemous and offensive because it look like orig research if this view ha been put forward by a published philosopher or theologian pls cite  ----  No Hate and Offensive']\n",
      " \n",
      "['welcome to wikipedia i hope you enjoy your stay anonymous coward  ----  No Hate and Offensive']\n",
      " \n",
      "['stub class basic information and a reasonable infobox supplied start class a reasonably complete infobox a lead section giving an overview of the song single one sentence is not a lead section a track listing reference to at least primary personnel by name must specify performer on the current song single a band navbox is insufficient categorisation at least by artist and year c class all the start class criterion a completed infobox including cover art and most technical detail at least one other section of prose in addition to the lead section a track listing containing track length and author for all song a full list of personnel including technical personnel and guest musician reliable independent in line reference supporting claim a casual reader should learn something about the song single  ----  No Hate and Offensive']\n",
      " \n"
     ]
    }
   ],
   "source": [
    "#buradan eğittiğimiz data setin sonuçlarına bakalım .\n",
    "\n",
    "import random\n",
    "\n",
    "a=random.sample(range(1,len(data_test[\"new_comment_text\"])),6)\n",
    "\n",
    "for i in range(5):\n",
    "    data_train = cv.transform([data_test[\"new_comment_text\"][a[i]]]).toarray()\n",
    "    print(data_test[\"new_comment_text\"][a[i]]+\"  ----  \"+clf.predict(data_train))\n",
    "    print(\" \")\n",
    "\n"
   ]
  },
  {
   "cell_type": "code",
   "execution_count": 11,
   "id": "96abb2cd",
   "metadata": {
    "execution": {
     "iopub.execute_input": "2022-01-12T12:21:07.935098Z",
     "iopub.status.busy": "2022-01-12T12:21:07.934428Z",
     "iopub.status.idle": "2022-01-12T12:22:50.692845Z",
     "shell.execute_reply": "2022-01-12T12:22:50.692293Z",
     "shell.execute_reply.started": "2022-01-09T16:23:17.105651Z"
    },
    "papermill": {
     "duration": 102.780743,
     "end_time": "2022-01-12T12:22:50.692985",
     "exception": false,
     "start_time": "2022-01-12T12:21:07.912242",
     "status": "completed"
    },
    "tags": []
   },
   "outputs": [
    {
     "data": {
      "text/html": [
       "        <script type=\"text/javascript\">\n",
       "        window.PlotlyConfig = {MathJaxConfig: 'local'};\n",
       "        if (window.MathJax) {MathJax.Hub.Config({SVG: {font: \"STIX-Web\"}});}\n",
       "        if (typeof require !== 'undefined') {\n",
       "        require.undef(\"plotly\");\n",
       "        requirejs.config({\n",
       "            paths: {\n",
       "                'plotly': ['https://cdn.plot.ly/plotly-2.6.3.min']\n",
       "            }\n",
       "        });\n",
       "        require(['plotly'], function(Plotly) {\n",
       "            window._Plotly = Plotly;\n",
       "        });\n",
       "        }\n",
       "        </script>\n",
       "        "
      ]
     },
     "metadata": {},
     "output_type": "display_data"
    },
    {
     "data": {
      "text/html": [
       "<div>                            <div id=\"4dc99e5c-9d60-4c30-8c54-9799296b5d60\" class=\"plotly-graph-div\" style=\"height:525px; width:100%;\"></div>            <script type=\"text/javascript\">                require([\"plotly\"], function(Plotly) {                    window.PLOTLYENV=window.PLOTLYENV || {};                                    if (document.getElementById(\"4dc99e5c-9d60-4c30-8c54-9799296b5d60\")) {                    Plotly.newPlot(                        \"4dc99e5c-9d60-4c30-8c54-9799296b5d60\",                        [{\"alignmentgroup\":\"True\",\"hovertemplate\":\"x=%{x}<br>y=%{y}<extra></extra>\",\"legendgroup\":\"\",\"marker\":{\"color\":\"#636efa\",\"pattern\":{\"shape\":\"\"}},\"name\":\"\",\"offsetgroup\":\"\",\"orientation\":\"v\",\"showlegend\":false,\"textposition\":\"auto\",\"x\":[\"No Offensive score\",\"Offensive score\",\"total\"],\"xaxis\":\"x\",\"y\":[121217,31947,153164],\"yaxis\":\"y\",\"type\":\"bar\"}],                        {\"template\":{\"data\":{\"bar\":[{\"error_x\":{\"color\":\"#2a3f5f\"},\"error_y\":{\"color\":\"#2a3f5f\"},\"marker\":{\"line\":{\"color\":\"#E5ECF6\",\"width\":0.5},\"pattern\":{\"fillmode\":\"overlay\",\"size\":10,\"solidity\":0.2}},\"type\":\"bar\"}],\"barpolar\":[{\"marker\":{\"line\":{\"color\":\"#E5ECF6\",\"width\":0.5},\"pattern\":{\"fillmode\":\"overlay\",\"size\":10,\"solidity\":0.2}},\"type\":\"barpolar\"}],\"carpet\":[{\"aaxis\":{\"endlinecolor\":\"#2a3f5f\",\"gridcolor\":\"white\",\"linecolor\":\"white\",\"minorgridcolor\":\"white\",\"startlinecolor\":\"#2a3f5f\"},\"baxis\":{\"endlinecolor\":\"#2a3f5f\",\"gridcolor\":\"white\",\"linecolor\":\"white\",\"minorgridcolor\":\"white\",\"startlinecolor\":\"#2a3f5f\"},\"type\":\"carpet\"}],\"choropleth\":[{\"colorbar\":{\"outlinewidth\":0,\"ticks\":\"\"},\"type\":\"choropleth\"}],\"contour\":[{\"colorbar\":{\"outlinewidth\":0,\"ticks\":\"\"},\"colorscale\":[[0.0,\"#0d0887\"],[0.1111111111111111,\"#46039f\"],[0.2222222222222222,\"#7201a8\"],[0.3333333333333333,\"#9c179e\"],[0.4444444444444444,\"#bd3786\"],[0.5555555555555556,\"#d8576b\"],[0.6666666666666666,\"#ed7953\"],[0.7777777777777778,\"#fb9f3a\"],[0.8888888888888888,\"#fdca26\"],[1.0,\"#f0f921\"]],\"type\":\"contour\"}],\"contourcarpet\":[{\"colorbar\":{\"outlinewidth\":0,\"ticks\":\"\"},\"type\":\"contourcarpet\"}],\"heatmap\":[{\"colorbar\":{\"outlinewidth\":0,\"ticks\":\"\"},\"colorscale\":[[0.0,\"#0d0887\"],[0.1111111111111111,\"#46039f\"],[0.2222222222222222,\"#7201a8\"],[0.3333333333333333,\"#9c179e\"],[0.4444444444444444,\"#bd3786\"],[0.5555555555555556,\"#d8576b\"],[0.6666666666666666,\"#ed7953\"],[0.7777777777777778,\"#fb9f3a\"],[0.8888888888888888,\"#fdca26\"],[1.0,\"#f0f921\"]],\"type\":\"heatmap\"}],\"heatmapgl\":[{\"colorbar\":{\"outlinewidth\":0,\"ticks\":\"\"},\"colorscale\":[[0.0,\"#0d0887\"],[0.1111111111111111,\"#46039f\"],[0.2222222222222222,\"#7201a8\"],[0.3333333333333333,\"#9c179e\"],[0.4444444444444444,\"#bd3786\"],[0.5555555555555556,\"#d8576b\"],[0.6666666666666666,\"#ed7953\"],[0.7777777777777778,\"#fb9f3a\"],[0.8888888888888888,\"#fdca26\"],[1.0,\"#f0f921\"]],\"type\":\"heatmapgl\"}],\"histogram\":[{\"marker\":{\"pattern\":{\"fillmode\":\"overlay\",\"size\":10,\"solidity\":0.2}},\"type\":\"histogram\"}],\"histogram2d\":[{\"colorbar\":{\"outlinewidth\":0,\"ticks\":\"\"},\"colorscale\":[[0.0,\"#0d0887\"],[0.1111111111111111,\"#46039f\"],[0.2222222222222222,\"#7201a8\"],[0.3333333333333333,\"#9c179e\"],[0.4444444444444444,\"#bd3786\"],[0.5555555555555556,\"#d8576b\"],[0.6666666666666666,\"#ed7953\"],[0.7777777777777778,\"#fb9f3a\"],[0.8888888888888888,\"#fdca26\"],[1.0,\"#f0f921\"]],\"type\":\"histogram2d\"}],\"histogram2dcontour\":[{\"colorbar\":{\"outlinewidth\":0,\"ticks\":\"\"},\"colorscale\":[[0.0,\"#0d0887\"],[0.1111111111111111,\"#46039f\"],[0.2222222222222222,\"#7201a8\"],[0.3333333333333333,\"#9c179e\"],[0.4444444444444444,\"#bd3786\"],[0.5555555555555556,\"#d8576b\"],[0.6666666666666666,\"#ed7953\"],[0.7777777777777778,\"#fb9f3a\"],[0.8888888888888888,\"#fdca26\"],[1.0,\"#f0f921\"]],\"type\":\"histogram2dcontour\"}],\"mesh3d\":[{\"colorbar\":{\"outlinewidth\":0,\"ticks\":\"\"},\"type\":\"mesh3d\"}],\"parcoords\":[{\"line\":{\"colorbar\":{\"outlinewidth\":0,\"ticks\":\"\"}},\"type\":\"parcoords\"}],\"pie\":[{\"automargin\":true,\"type\":\"pie\"}],\"scatter\":[{\"marker\":{\"colorbar\":{\"outlinewidth\":0,\"ticks\":\"\"}},\"type\":\"scatter\"}],\"scatter3d\":[{\"line\":{\"colorbar\":{\"outlinewidth\":0,\"ticks\":\"\"}},\"marker\":{\"colorbar\":{\"outlinewidth\":0,\"ticks\":\"\"}},\"type\":\"scatter3d\"}],\"scattercarpet\":[{\"marker\":{\"colorbar\":{\"outlinewidth\":0,\"ticks\":\"\"}},\"type\":\"scattercarpet\"}],\"scattergeo\":[{\"marker\":{\"colorbar\":{\"outlinewidth\":0,\"ticks\":\"\"}},\"type\":\"scattergeo\"}],\"scattergl\":[{\"marker\":{\"colorbar\":{\"outlinewidth\":0,\"ticks\":\"\"}},\"type\":\"scattergl\"}],\"scattermapbox\":[{\"marker\":{\"colorbar\":{\"outlinewidth\":0,\"ticks\":\"\"}},\"type\":\"scattermapbox\"}],\"scatterpolar\":[{\"marker\":{\"colorbar\":{\"outlinewidth\":0,\"ticks\":\"\"}},\"type\":\"scatterpolar\"}],\"scatterpolargl\":[{\"marker\":{\"colorbar\":{\"outlinewidth\":0,\"ticks\":\"\"}},\"type\":\"scatterpolargl\"}],\"scatterternary\":[{\"marker\":{\"colorbar\":{\"outlinewidth\":0,\"ticks\":\"\"}},\"type\":\"scatterternary\"}],\"surface\":[{\"colorbar\":{\"outlinewidth\":0,\"ticks\":\"\"},\"colorscale\":[[0.0,\"#0d0887\"],[0.1111111111111111,\"#46039f\"],[0.2222222222222222,\"#7201a8\"],[0.3333333333333333,\"#9c179e\"],[0.4444444444444444,\"#bd3786\"],[0.5555555555555556,\"#d8576b\"],[0.6666666666666666,\"#ed7953\"],[0.7777777777777778,\"#fb9f3a\"],[0.8888888888888888,\"#fdca26\"],[1.0,\"#f0f921\"]],\"type\":\"surface\"}],\"table\":[{\"cells\":{\"fill\":{\"color\":\"#EBF0F8\"},\"line\":{\"color\":\"white\"}},\"header\":{\"fill\":{\"color\":\"#C8D4E3\"},\"line\":{\"color\":\"white\"}},\"type\":\"table\"}]},\"layout\":{\"annotationdefaults\":{\"arrowcolor\":\"#2a3f5f\",\"arrowhead\":0,\"arrowwidth\":1},\"autotypenumbers\":\"strict\",\"coloraxis\":{\"colorbar\":{\"outlinewidth\":0,\"ticks\":\"\"}},\"colorscale\":{\"diverging\":[[0,\"#8e0152\"],[0.1,\"#c51b7d\"],[0.2,\"#de77ae\"],[0.3,\"#f1b6da\"],[0.4,\"#fde0ef\"],[0.5,\"#f7f7f7\"],[0.6,\"#e6f5d0\"],[0.7,\"#b8e186\"],[0.8,\"#7fbc41\"],[0.9,\"#4d9221\"],[1,\"#276419\"]],\"sequential\":[[0.0,\"#0d0887\"],[0.1111111111111111,\"#46039f\"],[0.2222222222222222,\"#7201a8\"],[0.3333333333333333,\"#9c179e\"],[0.4444444444444444,\"#bd3786\"],[0.5555555555555556,\"#d8576b\"],[0.6666666666666666,\"#ed7953\"],[0.7777777777777778,\"#fb9f3a\"],[0.8888888888888888,\"#fdca26\"],[1.0,\"#f0f921\"]],\"sequentialminus\":[[0.0,\"#0d0887\"],[0.1111111111111111,\"#46039f\"],[0.2222222222222222,\"#7201a8\"],[0.3333333333333333,\"#9c179e\"],[0.4444444444444444,\"#bd3786\"],[0.5555555555555556,\"#d8576b\"],[0.6666666666666666,\"#ed7953\"],[0.7777777777777778,\"#fb9f3a\"],[0.8888888888888888,\"#fdca26\"],[1.0,\"#f0f921\"]]},\"colorway\":[\"#636efa\",\"#EF553B\",\"#00cc96\",\"#ab63fa\",\"#FFA15A\",\"#19d3f3\",\"#FF6692\",\"#B6E880\",\"#FF97FF\",\"#FECB52\"],\"font\":{\"color\":\"#2a3f5f\"},\"geo\":{\"bgcolor\":\"white\",\"lakecolor\":\"white\",\"landcolor\":\"#E5ECF6\",\"showlakes\":true,\"showland\":true,\"subunitcolor\":\"white\"},\"hoverlabel\":{\"align\":\"left\"},\"hovermode\":\"closest\",\"mapbox\":{\"style\":\"light\"},\"paper_bgcolor\":\"white\",\"plot_bgcolor\":\"#E5ECF6\",\"polar\":{\"angularaxis\":{\"gridcolor\":\"white\",\"linecolor\":\"white\",\"ticks\":\"\"},\"bgcolor\":\"#E5ECF6\",\"radialaxis\":{\"gridcolor\":\"white\",\"linecolor\":\"white\",\"ticks\":\"\"}},\"scene\":{\"xaxis\":{\"backgroundcolor\":\"#E5ECF6\",\"gridcolor\":\"white\",\"gridwidth\":2,\"linecolor\":\"white\",\"showbackground\":true,\"ticks\":\"\",\"zerolinecolor\":\"white\"},\"yaxis\":{\"backgroundcolor\":\"#E5ECF6\",\"gridcolor\":\"white\",\"gridwidth\":2,\"linecolor\":\"white\",\"showbackground\":true,\"ticks\":\"\",\"zerolinecolor\":\"white\"},\"zaxis\":{\"backgroundcolor\":\"#E5ECF6\",\"gridcolor\":\"white\",\"gridwidth\":2,\"linecolor\":\"white\",\"showbackground\":true,\"ticks\":\"\",\"zerolinecolor\":\"white\"}},\"shapedefaults\":{\"line\":{\"color\":\"#2a3f5f\"}},\"ternary\":{\"aaxis\":{\"gridcolor\":\"white\",\"linecolor\":\"white\",\"ticks\":\"\"},\"baxis\":{\"gridcolor\":\"white\",\"linecolor\":\"white\",\"ticks\":\"\"},\"bgcolor\":\"#E5ECF6\",\"caxis\":{\"gridcolor\":\"white\",\"linecolor\":\"white\",\"ticks\":\"\"}},\"title\":{\"x\":0.05},\"xaxis\":{\"automargin\":true,\"gridcolor\":\"white\",\"linecolor\":\"white\",\"ticks\":\"\",\"title\":{\"standoff\":15},\"zerolinecolor\":\"white\",\"zerolinewidth\":2},\"yaxis\":{\"automargin\":true,\"gridcolor\":\"white\",\"linecolor\":\"white\",\"ticks\":\"\",\"title\":{\"standoff\":15},\"zerolinecolor\":\"white\",\"zerolinewidth\":2}}},\"xaxis\":{\"anchor\":\"y\",\"domain\":[0.0,1.0],\"title\":{\"text\":\"x\"}},\"yaxis\":{\"anchor\":\"x\",\"domain\":[0.0,1.0],\"title\":{\"text\":\"y\"}},\"legend\":{\"tracegroupgap\":0},\"margin\":{\"t\":60},\"barmode\":\"relative\"},                        {\"responsive\": true}                    ).then(function(){\n",
       "                            \n",
       "var gd = document.getElementById('4dc99e5c-9d60-4c30-8c54-9799296b5d60');\n",
       "var x = new MutationObserver(function (mutations, observer) {{\n",
       "        var display = window.getComputedStyle(gd).display;\n",
       "        if (!display || display === 'none') {{\n",
       "            console.log([gd, 'removed!']);\n",
       "            Plotly.purge(gd);\n",
       "            observer.disconnect();\n",
       "        }}\n",
       "}});\n",
       "\n",
       "// Listen for the removal of the full notebook cells\n",
       "var notebookContainer = gd.closest('#notebook-container');\n",
       "if (notebookContainer) {{\n",
       "    x.observe(notebookContainer, {childList: true});\n",
       "}}\n",
       "\n",
       "// Listen for the clearing of the current output cell\n",
       "var outputEl = gd.closest('.output');\n",
       "if (outputEl) {{\n",
       "    x.observe(outputEl, {childList: true});\n",
       "}}\n",
       "\n",
       "                        })                };                });            </script>        </div>"
      ]
     },
     "metadata": {},
     "output_type": "display_data"
    }
   ],
   "source": [
    "#eğitim datasetindeki verileri oluşturduğumuz makine öğrenmesine göre toplam sayıları .\n",
    "\n",
    "Offensive_score=0\n",
    "No_Offensive_score=0\n",
    "\n",
    "for i in data_test[\"new_comment_text\"]:\n",
    "    data_train = cv.transform([i]).toarray()\n",
    "    \n",
    "    if clf.predict(data_train)=='No Hate and Offensive':\n",
    "        No_Offensive_score+=1\n",
    "    else:\n",
    "        Offensive_score+=1\n",
    "        \n",
    "import plotly.express as px\n",
    "fig = px.bar( x=[\"No Offensive score\",\"Offensive score\",\"total\"],y=[No_Offensive_score,Offensive_score,No_Offensive_score+Offensive_score])\n",
    "fig.show()"
   ]
  },
  {
   "cell_type": "code",
   "execution_count": 12,
   "id": "dbc5f58f",
   "metadata": {
    "execution": {
     "iopub.execute_input": "2022-01-12T12:22:50.727630Z",
     "iopub.status.busy": "2022-01-12T12:22:50.726942Z",
     "iopub.status.idle": "2022-01-12T12:22:50.737644Z",
     "shell.execute_reply": "2022-01-12T12:22:50.738220Z",
     "shell.execute_reply.started": "2022-01-09T16:25:06.39259Z"
    },
    "papermill": {
     "duration": 0.029898,
     "end_time": "2022-01-12T12:22:50.738429",
     "exception": false,
     "start_time": "2022-01-12T12:22:50.708531",
     "status": "completed"
    },
    "tags": []
   },
   "outputs": [],
   "source": [
    "#burada sadece hakaret içerikli mesajları içeren veri kümesini alıyoruz .\n",
    "\n",
    "data_malignat=data_train1[data_train1[\"malignant\"]==1]\n",
    "\n",
    "data_malignat1=data_malignat #burada yaptığımız değişikliklerde veri setimiz zarar görmesin diye yedek dataset üzerinde çalışıyoruz \n",
    "\n",
    "data_malignat=data_train1[\"malignant\"]"
   ]
  },
  {
   "cell_type": "code",
   "execution_count": 13,
   "id": "e9acdde4",
   "metadata": {
    "execution": {
     "iopub.execute_input": "2022-01-12T12:22:50.773290Z",
     "iopub.status.busy": "2022-01-12T12:22:50.772682Z",
     "iopub.status.idle": "2022-01-12T12:22:59.202680Z",
     "shell.execute_reply": "2022-01-12T12:22:59.203187Z",
     "shell.execute_reply.started": "2022-01-09T16:25:06.404185Z"
    },
    "papermill": {
     "duration": 8.4493,
     "end_time": "2022-01-12T12:22:59.203389",
     "exception": false,
     "start_time": "2022-01-12T12:22:50.754089",
     "status": "completed"
    },
    "tags": []
   },
   "outputs": [],
   "source": [
    "absolve_list_malignant = cleaning(data_malignat1.comment_text) "
   ]
  },
  {
   "cell_type": "code",
   "execution_count": 14,
   "id": "b048b0b6",
   "metadata": {
    "execution": {
     "iopub.execute_input": "2022-01-12T12:22:59.243559Z",
     "iopub.status.busy": "2022-01-12T12:22:59.237731Z",
     "iopub.status.idle": "2022-01-12T12:22:59.867364Z",
     "shell.execute_reply": "2022-01-12T12:22:59.868085Z",
     "shell.execute_reply.started": "2022-01-09T16:25:21.359361Z"
    },
    "papermill": {
     "duration": 0.649078,
     "end_time": "2022-01-12T12:22:59.868346",
     "exception": false,
     "start_time": "2022-01-12T12:22:59.219268",
     "status": "completed"
    },
    "tags": []
   },
   "outputs": [
    {
     "name": "stdout",
     "output_type": "stream",
     "text": [
      "50 most frequently used words: ['article', 'asshole', 'ball', 'bark', 'bitch', 'block', 'bullshit', 'cock', 'cunt', 'dick', 'did', 'die', 'don', 'dont', 'fag', 'faggot', 'fat', 'fuck', 'fucking', 'gay', 'ha', 'hate', 'hi', 'idiot', 'jew', 'just', 'know', 'life', 'like', 'make', 'moron', 'nigger', 'page', 'penis', 'people', 'pig', 'right', 'shit', 'stop', 'stupid', 'suck', 'talk', 'think', 'time', 'user', 'wa', 'wanker', 'want', 'wiki', 'wikipedia']\n"
     ]
    }
   ],
   "source": [
    "#hakaret içerikli mesajlar içerisinde en çok kullanılan 50 kelimeyi sıralıyoruz .\n",
    "\n",
    "from sklearn.feature_extraction.text import CountVectorizer \n",
    "max_features = 50\n",
    "\n",
    "count_vectorizer = CountVectorizer(max_features=max_features,stop_words = \"english\")\n",
    "\n",
    "sparce_matrix = count_vectorizer.fit_transform(absolve_list_malignant).toarray()  # x\n",
    "\n",
    "print(\"{} most frequently used words: {}\".format(max_features,count_vectorizer.get_feature_names()))"
   ]
  },
  {
   "cell_type": "code",
   "execution_count": 15,
   "id": "822d00e9",
   "metadata": {
    "execution": {
     "iopub.execute_input": "2022-01-12T12:22:59.916421Z",
     "iopub.status.busy": "2022-01-12T12:22:59.915559Z",
     "iopub.status.idle": "2022-01-12T12:23:00.355714Z",
     "shell.execute_reply": "2022-01-12T12:23:00.355142Z",
     "shell.execute_reply.started": "2022-01-09T16:25:22.247934Z"
    },
    "papermill": {
     "duration": 0.466928,
     "end_time": "2022-01-12T12:23:00.355866",
     "exception": false,
     "start_time": "2022-01-12T12:22:59.888938",
     "status": "completed"
    },
    "tags": []
   },
   "outputs": [
    {
     "data": {
      "text/plain": [
       "you             38926\n",
       "a               23559\n",
       "i               23317\n",
       "the             20610\n",
       "and             15778\n",
       "                ...  \n",
       "br                  1\n",
       "ast                 1\n",
       "daisy               1\n",
       "ykick               1\n",
       "mischievious        1\n",
       "Length: 29191, dtype: int64"
      ]
     },
     "execution_count": 15,
     "metadata": {},
     "output_type": "execute_result"
    }
   ],
   "source": [
    "#veri setinde en çok kullanılan anlamlı veya anlamsız kelimelerin sayısı .\n",
    "#buradan en çok kullanılan 50 kelimenin sayısını bulacaz .\n",
    "\n",
    "seri = pd.Series(absolve_list_malignant, copy=False)\n",
    "words=[]\n",
    "\n",
    "for i in range(15294):\n",
    "    m=seri[i].split(\" \")\n",
    "    for x in range(len(m)):\n",
    "        words.append(m[x])\n",
    "        \n",
    "series = pd.Series(words, copy=False)\n",
    "series.value_counts()\n",
    "\n"
   ]
  },
  {
   "cell_type": "code",
   "execution_count": 16,
   "id": "5af26cec",
   "metadata": {
    "execution": {
     "iopub.execute_input": "2022-01-12T12:23:00.412837Z",
     "iopub.status.busy": "2022-01-12T12:23:00.397236Z",
     "iopub.status.idle": "2022-01-12T12:23:06.969282Z",
     "shell.execute_reply": "2022-01-12T12:23:06.969788Z",
     "shell.execute_reply.started": "2022-01-09T16:25:22.853244Z"
    },
    "papermill": {
     "duration": 6.597937,
     "end_time": "2022-01-12T12:23:06.969963",
     "exception": false,
     "start_time": "2022-01-12T12:23:00.372026",
     "status": "completed"
    },
    "tags": []
   },
   "outputs": [],
   "source": [
    "#burasıda en çok kullanılan 50 kelimenin sayılarını bulmak için oluşturuldu .\n",
    "\n",
    "the_words=count_vectorizer.get_feature_names()\n",
    "\n",
    "number_of_repetitions =[x for x in range(50)]\n",
    "\n",
    "for k in range(50):\n",
    "    for i in series:\n",
    "        if i==the_words[k]:\n",
    "            number_of_repetitions[k]+=1"
   ]
  },
  {
   "cell_type": "code",
   "execution_count": 17,
   "id": "bb1b04df",
   "metadata": {
    "execution": {
     "iopub.execute_input": "2022-01-12T12:23:07.006523Z",
     "iopub.status.busy": "2022-01-12T12:23:07.005553Z",
     "iopub.status.idle": "2022-01-12T12:23:07.095138Z",
     "shell.execute_reply": "2022-01-12T12:23:07.094523Z",
     "shell.execute_reply.started": "2022-01-09T16:25:33.021771Z"
    },
    "papermill": {
     "duration": 0.108914,
     "end_time": "2022-01-12T12:23:07.095283",
     "exception": false,
     "start_time": "2022-01-12T12:23:06.986369",
     "status": "completed"
    },
    "tags": []
   },
   "outputs": [
    {
     "data": {
      "text/html": [
       "<div>                            <div id=\"84d03201-5ed0-42d6-a13d-58f2faf2bbf4\" class=\"plotly-graph-div\" style=\"height:525px; width:100%;\"></div>            <script type=\"text/javascript\">                require([\"plotly\"], function(Plotly) {                    window.PLOTLYENV=window.PLOTLYENV || {};                                    if (document.getElementById(\"84d03201-5ed0-42d6-a13d-58f2faf2bbf4\")) {                    Plotly.newPlot(                        \"84d03201-5ed0-42d6-a13d-58f2faf2bbf4\",                        [{\"domain\":{\"x\":[0.0,1.0],\"y\":[0.0,1.0]},\"hovertemplate\":\"label=%{label}<br>value=%{value}<extra></extra>\",\"labels\":[\"article\",\"asshole\",\"ball\",\"bark\",\"bitch\",\"block\",\"bullshit\",\"cock\",\"cunt\",\"dick\",\"did\",\"die\",\"don\",\"dont\",\"fag\",\"faggot\",\"fat\",\"fuck\",\"fucking\",\"gay\",\"ha\",\"hate\",\"hi\",\"idiot\",\"jew\",\"just\",\"know\",\"life\",\"like\",\"make\",\"moron\",\"nigger\",\"page\",\"penis\",\"people\",\"pig\",\"right\",\"shit\",\"stop\",\"stupid\",\"suck\",\"talk\",\"think\",\"time\",\"user\",\"wa\",\"wanker\",\"want\",\"wiki\",\"wikipedia\"],\"legendgroup\":\"\",\"name\":\"\",\"showlegend\":true,\"values\":[1900,1142,1039,1004,2270,1158,1150,1285,1811,1385,1065,2093,2581,1044,1075,2708,1986,10027,3307,2285,1549,2703,1713,1173,1588,2506,2323,1204,3666,1207,1962,3458,2622,1287,1968,1420,1139,3676,1467,1480,4718,1553,1366,1308,1707,2461,1099,1367,1486,3735],\"type\":\"pie\"}],                        {\"template\":{\"data\":{\"bar\":[{\"error_x\":{\"color\":\"#2a3f5f\"},\"error_y\":{\"color\":\"#2a3f5f\"},\"marker\":{\"line\":{\"color\":\"#E5ECF6\",\"width\":0.5},\"pattern\":{\"fillmode\":\"overlay\",\"size\":10,\"solidity\":0.2}},\"type\":\"bar\"}],\"barpolar\":[{\"marker\":{\"line\":{\"color\":\"#E5ECF6\",\"width\":0.5},\"pattern\":{\"fillmode\":\"overlay\",\"size\":10,\"solidity\":0.2}},\"type\":\"barpolar\"}],\"carpet\":[{\"aaxis\":{\"endlinecolor\":\"#2a3f5f\",\"gridcolor\":\"white\",\"linecolor\":\"white\",\"minorgridcolor\":\"white\",\"startlinecolor\":\"#2a3f5f\"},\"baxis\":{\"endlinecolor\":\"#2a3f5f\",\"gridcolor\":\"white\",\"linecolor\":\"white\",\"minorgridcolor\":\"white\",\"startlinecolor\":\"#2a3f5f\"},\"type\":\"carpet\"}],\"choropleth\":[{\"colorbar\":{\"outlinewidth\":0,\"ticks\":\"\"},\"type\":\"choropleth\"}],\"contour\":[{\"colorbar\":{\"outlinewidth\":0,\"ticks\":\"\"},\"colorscale\":[[0.0,\"#0d0887\"],[0.1111111111111111,\"#46039f\"],[0.2222222222222222,\"#7201a8\"],[0.3333333333333333,\"#9c179e\"],[0.4444444444444444,\"#bd3786\"],[0.5555555555555556,\"#d8576b\"],[0.6666666666666666,\"#ed7953\"],[0.7777777777777778,\"#fb9f3a\"],[0.8888888888888888,\"#fdca26\"],[1.0,\"#f0f921\"]],\"type\":\"contour\"}],\"contourcarpet\":[{\"colorbar\":{\"outlinewidth\":0,\"ticks\":\"\"},\"type\":\"contourcarpet\"}],\"heatmap\":[{\"colorbar\":{\"outlinewidth\":0,\"ticks\":\"\"},\"colorscale\":[[0.0,\"#0d0887\"],[0.1111111111111111,\"#46039f\"],[0.2222222222222222,\"#7201a8\"],[0.3333333333333333,\"#9c179e\"],[0.4444444444444444,\"#bd3786\"],[0.5555555555555556,\"#d8576b\"],[0.6666666666666666,\"#ed7953\"],[0.7777777777777778,\"#fb9f3a\"],[0.8888888888888888,\"#fdca26\"],[1.0,\"#f0f921\"]],\"type\":\"heatmap\"}],\"heatmapgl\":[{\"colorbar\":{\"outlinewidth\":0,\"ticks\":\"\"},\"colorscale\":[[0.0,\"#0d0887\"],[0.1111111111111111,\"#46039f\"],[0.2222222222222222,\"#7201a8\"],[0.3333333333333333,\"#9c179e\"],[0.4444444444444444,\"#bd3786\"],[0.5555555555555556,\"#d8576b\"],[0.6666666666666666,\"#ed7953\"],[0.7777777777777778,\"#fb9f3a\"],[0.8888888888888888,\"#fdca26\"],[1.0,\"#f0f921\"]],\"type\":\"heatmapgl\"}],\"histogram\":[{\"marker\":{\"pattern\":{\"fillmode\":\"overlay\",\"size\":10,\"solidity\":0.2}},\"type\":\"histogram\"}],\"histogram2d\":[{\"colorbar\":{\"outlinewidth\":0,\"ticks\":\"\"},\"colorscale\":[[0.0,\"#0d0887\"],[0.1111111111111111,\"#46039f\"],[0.2222222222222222,\"#7201a8\"],[0.3333333333333333,\"#9c179e\"],[0.4444444444444444,\"#bd3786\"],[0.5555555555555556,\"#d8576b\"],[0.6666666666666666,\"#ed7953\"],[0.7777777777777778,\"#fb9f3a\"],[0.8888888888888888,\"#fdca26\"],[1.0,\"#f0f921\"]],\"type\":\"histogram2d\"}],\"histogram2dcontour\":[{\"colorbar\":{\"outlinewidth\":0,\"ticks\":\"\"},\"colorscale\":[[0.0,\"#0d0887\"],[0.1111111111111111,\"#46039f\"],[0.2222222222222222,\"#7201a8\"],[0.3333333333333333,\"#9c179e\"],[0.4444444444444444,\"#bd3786\"],[0.5555555555555556,\"#d8576b\"],[0.6666666666666666,\"#ed7953\"],[0.7777777777777778,\"#fb9f3a\"],[0.8888888888888888,\"#fdca26\"],[1.0,\"#f0f921\"]],\"type\":\"histogram2dcontour\"}],\"mesh3d\":[{\"colorbar\":{\"outlinewidth\":0,\"ticks\":\"\"},\"type\":\"mesh3d\"}],\"parcoords\":[{\"line\":{\"colorbar\":{\"outlinewidth\":0,\"ticks\":\"\"}},\"type\":\"parcoords\"}],\"pie\":[{\"automargin\":true,\"type\":\"pie\"}],\"scatter\":[{\"marker\":{\"colorbar\":{\"outlinewidth\":0,\"ticks\":\"\"}},\"type\":\"scatter\"}],\"scatter3d\":[{\"line\":{\"colorbar\":{\"outlinewidth\":0,\"ticks\":\"\"}},\"marker\":{\"colorbar\":{\"outlinewidth\":0,\"ticks\":\"\"}},\"type\":\"scatter3d\"}],\"scattercarpet\":[{\"marker\":{\"colorbar\":{\"outlinewidth\":0,\"ticks\":\"\"}},\"type\":\"scattercarpet\"}],\"scattergeo\":[{\"marker\":{\"colorbar\":{\"outlinewidth\":0,\"ticks\":\"\"}},\"type\":\"scattergeo\"}],\"scattergl\":[{\"marker\":{\"colorbar\":{\"outlinewidth\":0,\"ticks\":\"\"}},\"type\":\"scattergl\"}],\"scattermapbox\":[{\"marker\":{\"colorbar\":{\"outlinewidth\":0,\"ticks\":\"\"}},\"type\":\"scattermapbox\"}],\"scatterpolar\":[{\"marker\":{\"colorbar\":{\"outlinewidth\":0,\"ticks\":\"\"}},\"type\":\"scatterpolar\"}],\"scatterpolargl\":[{\"marker\":{\"colorbar\":{\"outlinewidth\":0,\"ticks\":\"\"}},\"type\":\"scatterpolargl\"}],\"scatterternary\":[{\"marker\":{\"colorbar\":{\"outlinewidth\":0,\"ticks\":\"\"}},\"type\":\"scatterternary\"}],\"surface\":[{\"colorbar\":{\"outlinewidth\":0,\"ticks\":\"\"},\"colorscale\":[[0.0,\"#0d0887\"],[0.1111111111111111,\"#46039f\"],[0.2222222222222222,\"#7201a8\"],[0.3333333333333333,\"#9c179e\"],[0.4444444444444444,\"#bd3786\"],[0.5555555555555556,\"#d8576b\"],[0.6666666666666666,\"#ed7953\"],[0.7777777777777778,\"#fb9f3a\"],[0.8888888888888888,\"#fdca26\"],[1.0,\"#f0f921\"]],\"type\":\"surface\"}],\"table\":[{\"cells\":{\"fill\":{\"color\":\"#EBF0F8\"},\"line\":{\"color\":\"white\"}},\"header\":{\"fill\":{\"color\":\"#C8D4E3\"},\"line\":{\"color\":\"white\"}},\"type\":\"table\"}]},\"layout\":{\"annotationdefaults\":{\"arrowcolor\":\"#2a3f5f\",\"arrowhead\":0,\"arrowwidth\":1},\"autotypenumbers\":\"strict\",\"coloraxis\":{\"colorbar\":{\"outlinewidth\":0,\"ticks\":\"\"}},\"colorscale\":{\"diverging\":[[0,\"#8e0152\"],[0.1,\"#c51b7d\"],[0.2,\"#de77ae\"],[0.3,\"#f1b6da\"],[0.4,\"#fde0ef\"],[0.5,\"#f7f7f7\"],[0.6,\"#e6f5d0\"],[0.7,\"#b8e186\"],[0.8,\"#7fbc41\"],[0.9,\"#4d9221\"],[1,\"#276419\"]],\"sequential\":[[0.0,\"#0d0887\"],[0.1111111111111111,\"#46039f\"],[0.2222222222222222,\"#7201a8\"],[0.3333333333333333,\"#9c179e\"],[0.4444444444444444,\"#bd3786\"],[0.5555555555555556,\"#d8576b\"],[0.6666666666666666,\"#ed7953\"],[0.7777777777777778,\"#fb9f3a\"],[0.8888888888888888,\"#fdca26\"],[1.0,\"#f0f921\"]],\"sequentialminus\":[[0.0,\"#0d0887\"],[0.1111111111111111,\"#46039f\"],[0.2222222222222222,\"#7201a8\"],[0.3333333333333333,\"#9c179e\"],[0.4444444444444444,\"#bd3786\"],[0.5555555555555556,\"#d8576b\"],[0.6666666666666666,\"#ed7953\"],[0.7777777777777778,\"#fb9f3a\"],[0.8888888888888888,\"#fdca26\"],[1.0,\"#f0f921\"]]},\"colorway\":[\"#636efa\",\"#EF553B\",\"#00cc96\",\"#ab63fa\",\"#FFA15A\",\"#19d3f3\",\"#FF6692\",\"#B6E880\",\"#FF97FF\",\"#FECB52\"],\"font\":{\"color\":\"#2a3f5f\"},\"geo\":{\"bgcolor\":\"white\",\"lakecolor\":\"white\",\"landcolor\":\"#E5ECF6\",\"showlakes\":true,\"showland\":true,\"subunitcolor\":\"white\"},\"hoverlabel\":{\"align\":\"left\"},\"hovermode\":\"closest\",\"mapbox\":{\"style\":\"light\"},\"paper_bgcolor\":\"white\",\"plot_bgcolor\":\"#E5ECF6\",\"polar\":{\"angularaxis\":{\"gridcolor\":\"white\",\"linecolor\":\"white\",\"ticks\":\"\"},\"bgcolor\":\"#E5ECF6\",\"radialaxis\":{\"gridcolor\":\"white\",\"linecolor\":\"white\",\"ticks\":\"\"}},\"scene\":{\"xaxis\":{\"backgroundcolor\":\"#E5ECF6\",\"gridcolor\":\"white\",\"gridwidth\":2,\"linecolor\":\"white\",\"showbackground\":true,\"ticks\":\"\",\"zerolinecolor\":\"white\"},\"yaxis\":{\"backgroundcolor\":\"#E5ECF6\",\"gridcolor\":\"white\",\"gridwidth\":2,\"linecolor\":\"white\",\"showbackground\":true,\"ticks\":\"\",\"zerolinecolor\":\"white\"},\"zaxis\":{\"backgroundcolor\":\"#E5ECF6\",\"gridcolor\":\"white\",\"gridwidth\":2,\"linecolor\":\"white\",\"showbackground\":true,\"ticks\":\"\",\"zerolinecolor\":\"white\"}},\"shapedefaults\":{\"line\":{\"color\":\"#2a3f5f\"}},\"ternary\":{\"aaxis\":{\"gridcolor\":\"white\",\"linecolor\":\"white\",\"ticks\":\"\"},\"baxis\":{\"gridcolor\":\"white\",\"linecolor\":\"white\",\"ticks\":\"\"},\"bgcolor\":\"#E5ECF6\",\"caxis\":{\"gridcolor\":\"white\",\"linecolor\":\"white\",\"ticks\":\"\"}},\"title\":{\"x\":0.05},\"xaxis\":{\"automargin\":true,\"gridcolor\":\"white\",\"linecolor\":\"white\",\"ticks\":\"\",\"title\":{\"standoff\":15},\"zerolinecolor\":\"white\",\"zerolinewidth\":2},\"yaxis\":{\"automargin\":true,\"gridcolor\":\"white\",\"linecolor\":\"white\",\"ticks\":\"\",\"title\":{\"standoff\":15},\"zerolinecolor\":\"white\",\"zerolinewidth\":2}}},\"legend\":{\"tracegroupgap\":0},\"margin\":{\"t\":60}},                        {\"responsive\": true}                    ).then(function(){\n",
       "                            \n",
       "var gd = document.getElementById('84d03201-5ed0-42d6-a13d-58f2faf2bbf4');\n",
       "var x = new MutationObserver(function (mutations, observer) {{\n",
       "        var display = window.getComputedStyle(gd).display;\n",
       "        if (!display || display === 'none') {{\n",
       "            console.log([gd, 'removed!']);\n",
       "            Plotly.purge(gd);\n",
       "            observer.disconnect();\n",
       "        }}\n",
       "}});\n",
       "\n",
       "// Listen for the removal of the full notebook cells\n",
       "var notebookContainer = gd.closest('#notebook-container');\n",
       "if (notebookContainer) {{\n",
       "    x.observe(notebookContainer, {childList: true});\n",
       "}}\n",
       "\n",
       "// Listen for the clearing of the current output cell\n",
       "var outputEl = gd.closest('.output');\n",
       "if (outputEl) {{\n",
       "    x.observe(outputEl, {childList: true});\n",
       "}}\n",
       "\n",
       "                        })                };                });            </script>        </div>"
      ]
     },
     "metadata": {},
     "output_type": "display_data"
    }
   ],
   "source": [
    "#şimdide daha rahat anlaşılması için tekrar sayılarını görsele döküyoruz .\n",
    "\n",
    "x=count_vectorizer.get_feature_names()\n",
    "y=number_of_repetitions\n",
    "\n",
    "fig = px.pie(values=y, names=x)\n",
    "fig.show()"
   ]
  },
  {
   "cell_type": "code",
   "execution_count": 18,
   "id": "a2d25029",
   "metadata": {
    "execution": {
     "iopub.execute_input": "2022-01-12T12:23:07.135238Z",
     "iopub.status.busy": "2022-01-12T12:23:07.134613Z",
     "iopub.status.idle": "2022-01-12T12:23:07.848520Z",
     "shell.execute_reply": "2022-01-12T12:23:07.849003Z",
     "shell.execute_reply.started": "2022-01-09T16:25:33.117024Z"
    },
    "papermill": {
     "duration": 0.737173,
     "end_time": "2022-01-12T12:23:07.849169",
     "exception": false,
     "start_time": "2022-01-12T12:23:07.111996",
     "status": "completed"
    },
    "tags": []
   },
   "outputs": [
    {
     "data": {
      "image/png": "[encoded data removed]",
      "text/plain": [
       "<Figure size 576x576 with 1 Axes>"
      ]
     },
     "metadata": {
      "needs_background": "light"
     },
     "output_type": "display_data"
    }
   ],
   "source": [
    "#en çok kullanılan 50 kelimenin kelime haritasına bakalım ve bitirelim  .\n",
    "import matplotlib.pyplot as plt \n",
    "from wordcloud import WordCloud\n",
    "\n",
    "plt.subplots(figsize = (8,8))\n",
    "\n",
    "wordcloud = WordCloud (\n",
    "                    background_color = 'white',\n",
    "                    width = 512,\n",
    "                    height = 384\n",
    "                        ).generate(' '.join(x))\n",
    "plt.imshow(wordcloud) \n",
    "plt.axis('off')\n",
    "plt.savefig('Plotly-World_Cloud.png')\n",
    "plt.show()"
   ]
  }
 ],
 "metadata": {
  "kernelspec": {
   "display_name": "Python 3",
   "language": "python",
   "name": "python3"
  },
  "language_info": {
   "codemirror_mode": {
    "name": "ipython",
    "version": 3
   },
   "file_extension": ".py",
   "mimetype": "text/x-python",
   "name": "python",
   "nbconvert_exporter": "python",
   "pygments_lexer": "ipython3",
   "version": "3.7.12"
  },
  "papermill": {
   "default_parameters": {},
   "duration": 1877.788226,
   "end_time": "2022-01-12T12:23:09.288505",
   "environment_variables": {},
   "exception": null,
   "input_path": "__notebook__.ipynb",
   "output_path": "__notebook__.ipynb",
   "parameters": {},
   "start_time": "2022-01-12T11:51:51.500279",
   "version": "2.3.3"
  }
 },
 "nbformat": 4,
 "nbformat_minor": 5
}
